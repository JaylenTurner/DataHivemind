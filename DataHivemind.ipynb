{
 "cells": [
  {
   "cell_type": "code",
   "execution_count": 5,
   "id": "7449e50e",
   "metadata": {},
   "outputs": [
    {
     "data": {
      "text/html": [
       "<iframe src=\"https://projector.tensorflow.org/?config=https://gist.githubusercontent.com/JaylenTurner/c654aed69f7b233f3fc6eefbddcb5391/raw/901789c0a97beaf411b9c3bfa4aa2827751715e2/projectorConfig.json\" width=1200px height=700px></iframe>"
      ],
      "text/plain": [
       "<IPython.core.display.HTML object>"
      ]
     },
     "execution_count": 5,
     "metadata": {},
     "output_type": "execute_result"
    }
   ],
   "source": [
    "from IPython.display import HTML\n",
    "HTML(f'<iframe src=\"https://projector.tensorflow.org/?config=https://gist.githubusercontent.com/JaylenTurner/c654aed69f7b233f3fc6eefbddcb5391/raw/901789c0a97beaf411b9c3bfa4aa2827751715e2/projectorConfig.json\" width=1200px height=700px></iframe>')"
   ]
  },
  {
   "cell_type": "code",
   "execution_count": null,
   "id": "bcddf175",
   "metadata": {},
   "outputs": [],
   "source": []
  }
 ],
 "metadata": {
  "kernelspec": {
   "display_name": "Python 3 (ipykernel)",
   "language": "python",
   "name": "python3"
  },
  "language_info": {
   "codemirror_mode": {
    "name": "ipython",
    "version": 3
   },
   "file_extension": ".py",
   "mimetype": "text/x-python",
   "name": "python",
   "nbconvert_exporter": "python",
   "pygments_lexer": "ipython3",
   "version": "3.9.13"
  }
 },
 "nbformat": 4,
 "nbformat_minor": 5
}
